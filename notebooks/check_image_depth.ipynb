{
 "cells": [
  {
   "cell_type": "code",
   "execution_count": 1,
   "metadata": {},
   "outputs": [],
   "source": [
    "import os\n",
    "import numpy as np\n",
    "import cv2 as cv\n",
    "from PIL import Image"
   ]
  },
  {
   "cell_type": "code",
   "execution_count": 2,
   "metadata": {},
   "outputs": [],
   "source": [
    "data_dir = '../data/Image_Chips_128_nostride_unbalanced_dem/'\n",
    "testfile = '000000000227.tif'"
   ]
  },
  {
   "cell_type": "code",
   "execution_count": 3,
   "metadata": {},
   "outputs": [],
   "source": [
    "image = cv.imread(os.path.join(data_dir, \"images/\", testfile), cv.IMREAD_UNCHANGED)\n",
    "dem = cv.imread(os.path.join(data_dir, \"images2/\", testfile), cv.IMREAD_UNCHANGED)\n",
    "mask = cv.imread(os.path.join(data_dir, \"labels/\", testfile), cv.IMREAD_UNCHANGED)"
   ]
  },
  {
   "cell_type": "code",
   "execution_count": 4,
   "metadata": {},
   "outputs": [
    {
     "name": "stdout",
     "output_type": "stream",
     "text": [
      "Shapes: (128, 128, 4) (128, 128) (128, 128)\n",
      "Depths: uint8 uint16 uint16\n",
      "Range: (37, 183) (12923, 13291) (0, 255)\n"
     ]
    }
   ],
   "source": [
    "print(\"Shapes:\", image.shape, dem.shape, mask.shape)\n",
    "print(\"Depths:\", image.dtype, dem.dtype, mask.dtype)\n",
    "print(\"Range:\", (image.min(), image.max()),(dem.min(), dem.max()), (mask.min(), mask.max()))"
   ]
  },
  {
   "cell_type": "code",
   "execution_count": 5,
   "metadata": {},
   "outputs": [],
   "source": [
    "image = Image.open(os.path.join(data_dir, \"images/\", testfile))\n",
    "dem = Image.open(os.path.join(data_dir, \"images2/\", testfile))\n",
    "mask = Image.open(os.path.join(data_dir, \"labels/\", testfile))"
   ]
  },
  {
   "cell_type": "code",
   "execution_count": 6,
   "metadata": {},
   "outputs": [
    {
     "name": "stdout",
     "output_type": "stream",
     "text": [
      "Shapes: (128, 128) (128, 128) (128, 128)\n",
      "Depths: RGBX I;16 I;16\n",
      "Range: ((63, 162), (62, 154), (37, 128), (107, 183)) (12923, 13291) (0, 255)\n"
     ]
    }
   ],
   "source": [
    "print(\"Shapes:\", image.size, dem.size, mask.size)\n",
    "print(\"Depths:\", image.mode, dem.mode, mask.mode)\n",
    "print(\"Range:\", image.getextrema(), dem.getextrema(), mask.getextrema())"
   ]
  },
  {
   "cell_type": "code",
   "execution_count": null,
   "metadata": {},
   "outputs": [],
   "source": []
  }
 ],
 "metadata": {
  "kernelspec": {
   "display_name": "unet-ortho",
   "language": "python",
   "name": "python3"
  },
  "language_info": {
   "codemirror_mode": {
    "name": "ipython",
    "version": 3
   },
   "file_extension": ".py",
   "mimetype": "text/x-python",
   "name": "python",
   "nbconvert_exporter": "python",
   "pygments_lexer": "ipython3",
   "version": "3.10.10"
  },
  "orig_nbformat": 4
 },
 "nbformat": 4,
 "nbformat_minor": 2
}
