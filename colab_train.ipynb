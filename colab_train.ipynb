{
 "cells": [
  {
   "cell_type": "code",
   "execution_count": null,
   "metadata": {},
   "outputs": [],
   "source": [
    "!rm -r sample_data\n",
    "!git clone https://github.com/PhilipMathieu/unet-orthoimagery.git ."
   ]
  },
  {
   "cell_type": "code",
   "execution_count": 10,
   "metadata": {},
   "outputs": [],
   "source": [
    "import logging\n",
    "import torch\n",
    "from src.train import train_model\n",
    "from src.unet.unet_model import UNet"
   ]
  },
  {
   "cell_type": "code",
   "execution_count": 11,
   "metadata": {},
   "outputs": [
    {
     "name": "stderr",
     "output_type": "stream",
     "text": [
      "INFO: Using device: cpu\n"
     ]
    }
   ],
   "source": [
    "logging.basicConfig(level=logging.INFO, format='%(levelname)s: %(message)s')\n",
    "device = torch.device('cuda' if torch.cuda.is_available() else 'cpu')\n",
    "logging.info(f'Using device: {device}')"
   ]
  },
  {
   "cell_type": "code",
   "execution_count": 12,
   "metadata": {},
   "outputs": [],
   "source": [
    "model = UNet(n_channels=4, n_classes=1, bilinear=False)\n",
    "model = model.to(memory_format=torch.channels_last)"
   ]
  },
  {
   "cell_type": "code",
   "execution_count": 15,
   "metadata": {},
   "outputs": [
    {
     "name": "stderr",
     "output_type": "stream",
     "text": [
      "INFO: Network:\n",
      "\t4 input channels\n",
      "\t1 output channels (classes)\n",
      "\ttransposed conv upscaling\n"
     ]
    }
   ],
   "source": [
    "logging.info(f'Network:\\n'\n",
    "                 f'\\t{model.n_channels} input channels\\n'\n",
    "                 f'\\t{model.n_classes} output channels (classes)\\n'\n",
    "                 f'\\t{\"Bilinear\" if model.bilinear else \"transposed conv\"} upscaling')\n",
    "\n",
    "\n",
    "model.to(device=device);"
   ]
  },
  {
   "cell_type": "code",
   "execution_count": 17,
   "metadata": {},
   "outputs": [
    {
     "ename": "KeyboardInterrupt",
     "evalue": "",
     "output_type": "error",
     "traceback": [
      "\u001b[0;31m---------------------------------------------------------------------------\u001b[0m",
      "\u001b[0;31mKeyboardInterrupt\u001b[0m                         Traceback (most recent call last)",
      "Cell \u001b[0;32mIn[17], line 2\u001b[0m\n\u001b[1;32m      1\u001b[0m \u001b[39mtry\u001b[39;00m:\n\u001b[0;32m----> 2\u001b[0m     train_model(\n\u001b[1;32m      3\u001b[0m         model\u001b[39m=\u001b[39;49mmodel,\n\u001b[1;32m      4\u001b[0m         epochs\u001b[39m=\u001b[39;49m\u001b[39m20\u001b[39;49m,\n\u001b[1;32m      5\u001b[0m         device\u001b[39m=\u001b[39;49mdevice,\n\u001b[1;32m      6\u001b[0m         data_dir\u001b[39m=\u001b[39;49m\u001b[39m\"\u001b[39;49m\u001b[39mdata/Image_Chips_128_overlap_unbalanced_dem/\u001b[39;49m\u001b[39m\"\u001b[39;49m\n\u001b[1;32m      7\u001b[0m     )\n\u001b[1;32m      8\u001b[0m \u001b[39mexcept\u001b[39;00m torch\u001b[39m.\u001b[39mcuda\u001b[39m.\u001b[39mOutOfMemoryError: \u001b[39m# Giving me syntax error saying '\"OutOfMemoryError\" is not a valid exception class.'\u001b[39;00m\n\u001b[1;32m      9\u001b[0m     logging\u001b[39m.\u001b[39merror(\u001b[39m'\u001b[39m\u001b[39mDetected OutOfMemoryError! \u001b[39m\u001b[39m'\u001b[39m\n\u001b[1;32m     10\u001b[0m                     \u001b[39m'\u001b[39m\u001b[39mEnabling checkpointing to reduce memory usage, but this slows down training. \u001b[39m\u001b[39m'\u001b[39m\n\u001b[1;32m     11\u001b[0m                     \u001b[39m'\u001b[39m\u001b[39mConsider enabling AMP (--amp) for fast and memory efficient training\u001b[39m\u001b[39m'\u001b[39m)\n",
      "File \u001b[0;32m/mnt/c/Users/phili/Documents/src/unet-orthoimagery/src/train.py:52\u001b[0m, in \u001b[0;36mtrain_model\u001b[0;34m(model, device, data_dir, epochs, batch_size, learning_rate, val_percent, save_checkpoint, img_scale, amp, weight_decay, momentum, gradient_clipping, dir_checkpoint)\u001b[0m\n\u001b[1;32m     50\u001b[0m \u001b[39m# 1. Create Dataset\u001b[39;00m\n\u001b[1;32m     51\u001b[0m \u001b[39mtry\u001b[39;00m:\n\u001b[0;32m---> 52\u001b[0m     dataset \u001b[39m=\u001b[39m MEOIDataset(dir_img, dir_dem, dir_mask, img_scale)\n\u001b[1;32m     53\u001b[0m \u001b[39mexcept\u001b[39;00m (\u001b[39mAssertionError\u001b[39;00m, \u001b[39mRuntimeError\u001b[39;00m, \u001b[39mIndexError\u001b[39;00m):\n\u001b[1;32m     54\u001b[0m     dataset \u001b[39m=\u001b[39m BasicDataset(dir_img, dir_dem, dir_mask, img_scale)\n",
      "File \u001b[0;32m/mnt/c/Users/phili/Documents/src/unet-orthoimagery/src/utils/data_loading.py:141\u001b[0m, in \u001b[0;36mMEOIDataset.__init__\u001b[0;34m(self, images_dir, dem_dir, mask_dir, scale)\u001b[0m\n\u001b[1;32m    140\u001b[0m \u001b[39mdef\u001b[39;00m \u001b[39m__init__\u001b[39m(\u001b[39mself\u001b[39m, images_dir, dem_dir, mask_dir, scale\u001b[39m=\u001b[39m\u001b[39m1\u001b[39m):\n\u001b[0;32m--> 141\u001b[0m     \u001b[39msuper\u001b[39;49m()\u001b[39m.\u001b[39;49m\u001b[39m__init__\u001b[39;49m(images_dir, dem_dir, mask_dir, scale, mask_suffix\u001b[39m=\u001b[39;49m\u001b[39m'\u001b[39;49m\u001b[39m_mask\u001b[39;49m\u001b[39m'\u001b[39;49m)\n",
      "File \u001b[0;32m/mnt/c/Users/phili/Documents/src/unet-orthoimagery/src/utils/data_loading.py:50\u001b[0m, in \u001b[0;36mBasicDataset.__init__\u001b[0;34m(self, images_dir, dem_dir, mask_dir, scale, mask_suffix)\u001b[0m\n\u001b[1;32m     47\u001b[0m \u001b[39mself\u001b[39m\u001b[39m.\u001b[39mscale \u001b[39m=\u001b[39m scale\n\u001b[1;32m     48\u001b[0m \u001b[39mself\u001b[39m\u001b[39m.\u001b[39mmask_suffix \u001b[39m=\u001b[39m mask_suffix\n\u001b[0;32m---> 50\u001b[0m \u001b[39mself\u001b[39m\u001b[39m.\u001b[39mids \u001b[39m=\u001b[39m [splitext(file)[\u001b[39m0\u001b[39m]  \u001b[39mfor\u001b[39;00m file \u001b[39min\u001b[39;00m listdir(images_dir) \u001b[39mif\u001b[39;00m isfile(join(images_dir, file)) \u001b[39mand\u001b[39;00m \u001b[39mnot\u001b[39;00m file\u001b[39m.\u001b[39mstartswith(\u001b[39m'\u001b[39m\u001b[39m.\u001b[39m\u001b[39m'\u001b[39m) \u001b[39mand\u001b[39;00m file\u001b[39m.\u001b[39mendswith(\u001b[39m'\u001b[39m\u001b[39m.tif\u001b[39m\u001b[39m'\u001b[39m)]\n\u001b[1;32m     51\u001b[0m \u001b[39mself\u001b[39m\u001b[39m.\u001b[39mdids \u001b[39m=\u001b[39m [splitext(file)[\u001b[39m0\u001b[39m]  \u001b[39mfor\u001b[39;00m file \u001b[39min\u001b[39;00m listdir(dem_dir) \u001b[39mif\u001b[39;00m isfile(join(dem_dir, file)) \u001b[39mand\u001b[39;00m \u001b[39mnot\u001b[39;00m file\u001b[39m.\u001b[39mstartswith(\u001b[39m'\u001b[39m\u001b[39m.\u001b[39m\u001b[39m'\u001b[39m) \u001b[39mand\u001b[39;00m file\u001b[39m.\u001b[39mendswith(\u001b[39m'\u001b[39m\u001b[39m.tif\u001b[39m\u001b[39m'\u001b[39m)]\n\u001b[1;32m     52\u001b[0m \u001b[39mself\u001b[39m\u001b[39m.\u001b[39mmids \u001b[39m=\u001b[39m [splitext(file)[\u001b[39m0\u001b[39m]  \u001b[39mfor\u001b[39;00m file \u001b[39min\u001b[39;00m listdir(mask_dir) \u001b[39mif\u001b[39;00m isfile(join(mask_dir, file)) \u001b[39mand\u001b[39;00m \u001b[39mnot\u001b[39;00m file\u001b[39m.\u001b[39mstartswith(\u001b[39m'\u001b[39m\u001b[39m.\u001b[39m\u001b[39m'\u001b[39m) \u001b[39mand\u001b[39;00m file\u001b[39m.\u001b[39mendswith(\u001b[39m'\u001b[39m\u001b[39m.tif\u001b[39m\u001b[39m'\u001b[39m)]\n",
      "File \u001b[0;32m/mnt/c/Users/phili/Documents/src/unet-orthoimagery/src/utils/data_loading.py:50\u001b[0m, in \u001b[0;36m<listcomp>\u001b[0;34m(.0)\u001b[0m\n\u001b[1;32m     47\u001b[0m \u001b[39mself\u001b[39m\u001b[39m.\u001b[39mscale \u001b[39m=\u001b[39m scale\n\u001b[1;32m     48\u001b[0m \u001b[39mself\u001b[39m\u001b[39m.\u001b[39mmask_suffix \u001b[39m=\u001b[39m mask_suffix\n\u001b[0;32m---> 50\u001b[0m \u001b[39mself\u001b[39m\u001b[39m.\u001b[39mids \u001b[39m=\u001b[39m [splitext(file)[\u001b[39m0\u001b[39m]  \u001b[39mfor\u001b[39;00m file \u001b[39min\u001b[39;00m listdir(images_dir) \u001b[39mif\u001b[39;00m isfile(join(images_dir, file)) \u001b[39mand\u001b[39;00m \u001b[39mnot\u001b[39;00m file\u001b[39m.\u001b[39mstartswith(\u001b[39m'\u001b[39m\u001b[39m.\u001b[39m\u001b[39m'\u001b[39m) \u001b[39mand\u001b[39;00m file\u001b[39m.\u001b[39mendswith(\u001b[39m'\u001b[39m\u001b[39m.tif\u001b[39m\u001b[39m'\u001b[39m)]\n\u001b[1;32m     51\u001b[0m \u001b[39mself\u001b[39m\u001b[39m.\u001b[39mdids \u001b[39m=\u001b[39m [splitext(file)[\u001b[39m0\u001b[39m]  \u001b[39mfor\u001b[39;00m file \u001b[39min\u001b[39;00m listdir(dem_dir) \u001b[39mif\u001b[39;00m isfile(join(dem_dir, file)) \u001b[39mand\u001b[39;00m \u001b[39mnot\u001b[39;00m file\u001b[39m.\u001b[39mstartswith(\u001b[39m'\u001b[39m\u001b[39m.\u001b[39m\u001b[39m'\u001b[39m) \u001b[39mand\u001b[39;00m file\u001b[39m.\u001b[39mendswith(\u001b[39m'\u001b[39m\u001b[39m.tif\u001b[39m\u001b[39m'\u001b[39m)]\n\u001b[1;32m     52\u001b[0m \u001b[39mself\u001b[39m\u001b[39m.\u001b[39mmids \u001b[39m=\u001b[39m [splitext(file)[\u001b[39m0\u001b[39m]  \u001b[39mfor\u001b[39;00m file \u001b[39min\u001b[39;00m listdir(mask_dir) \u001b[39mif\u001b[39;00m isfile(join(mask_dir, file)) \u001b[39mand\u001b[39;00m \u001b[39mnot\u001b[39;00m file\u001b[39m.\u001b[39mstartswith(\u001b[39m'\u001b[39m\u001b[39m.\u001b[39m\u001b[39m'\u001b[39m) \u001b[39mand\u001b[39;00m file\u001b[39m.\u001b[39mendswith(\u001b[39m'\u001b[39m\u001b[39m.tif\u001b[39m\u001b[39m'\u001b[39m)]\n",
      "File \u001b[0;32m~/miniconda3/envs/unet-ortho/lib/python3.10/genericpath.py:30\u001b[0m, in \u001b[0;36misfile\u001b[0;34m(path)\u001b[0m\n\u001b[1;32m     28\u001b[0m \u001b[39m\u001b[39m\u001b[39m\"\"\"Test whether a path is a regular file\"\"\"\u001b[39;00m\n\u001b[1;32m     29\u001b[0m \u001b[39mtry\u001b[39;00m:\n\u001b[0;32m---> 30\u001b[0m     st \u001b[39m=\u001b[39m os\u001b[39m.\u001b[39;49mstat(path)\n\u001b[1;32m     31\u001b[0m \u001b[39mexcept\u001b[39;00m (\u001b[39mOSError\u001b[39;00m, \u001b[39mValueError\u001b[39;00m):\n\u001b[1;32m     32\u001b[0m     \u001b[39mreturn\u001b[39;00m \u001b[39mFalse\u001b[39;00m\n",
      "\u001b[0;31mKeyboardInterrupt\u001b[0m: "
     ]
    }
   ],
   "source": [
    "try:\n",
    "    train_model(\n",
    "        model=model,\n",
    "        epochs=20,\n",
    "        device=device,\n",
    "        data_dir=\"data/Image_Chips_128_overlap_unbalanced_dem/\"\n",
    "    )\n",
    "except torch.cuda.OutOfMemoryError: # Giving me syntax error saying '\"OutOfMemoryError\" is not a valid exception class.'\n",
    "    logging.error('Detected OutOfMemoryError! '\n",
    "                    'Enabling checkpointing to reduce memory usage, but this slows down training. '\n",
    "                    'Consider enabling AMP (--amp) for fast and memory efficient training')\n",
    "    torch.cuda.empty_cache()\n",
    "    model.use_checkpointing()\n",
    "    train_model(\n",
    "        model=model,\n",
    "        epochs=20,\n",
    "        device=device,\n",
    "        data_dir=\"data/Image_Chips_128_overlap_unbalanced_dem/\"\n",
    "    )"
   ]
  }
 ],
 "metadata": {
  "kernelspec": {
   "display_name": "unet-ortho",
   "language": "python",
   "name": "python3"
  },
  "language_info": {
   "codemirror_mode": {
    "name": "ipython",
    "version": 3
   },
   "file_extension": ".py",
   "mimetype": "text/x-python",
   "name": "python",
   "nbconvert_exporter": "python",
   "pygments_lexer": "ipython3",
   "version": "3.10.10"
  },
  "orig_nbformat": 4
 },
 "nbformat": 4,
 "nbformat_minor": 2
}
